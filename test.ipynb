{
 "cells": [
  {
   "cell_type": "code",
   "execution_count": 17,
   "metadata": {},
   "outputs": [],
   "source": [
    "import numpy as np\n",
    "import Activation as activation  # type: ignore\n",
    "import Dense as layer  # type: ignore\n",
    "import Optimization as optimization  # type: ignore\n",
    "import Points as point  # type: ignore\n",
    "import matplotlib.pyplot as plt\n",
    "import Model as NNModel  # type: ignore\n",
    "import Loss as loss_function\n",
    "import Accuracy as accuracy  # type: ignore\n"
   ]
  },
  {
   "cell_type": "code",
   "execution_count": 18,
   "metadata": {},
   "outputs": [],
   "source": [
    "\n",
    "n_points = 1000\n",
    "Training_Data = point.Zone(n_points,3,2)\n",
    "Validation_Data = point.Zone(n_points,3,2)\n"
   ]
  },
  {
   "cell_type": "code",
   "execution_count": 19,
   "metadata": {},
   "outputs": [
    {
     "ename": "NameError",
     "evalue": "name 'DenseRegularized' is not defined",
     "output_type": "error",
     "traceback": [
      "\u001b[1;31m---------------------------------------------------------------------------\u001b[0m",
      "\u001b[1;31mNameError\u001b[0m                                 Traceback (most recent call last)",
      "Cell \u001b[1;32mIn[19], line 5\u001b[0m\n\u001b[0;32m      2\u001b[0m model \u001b[38;5;241m=\u001b[39m NNModel\u001b[38;5;241m.\u001b[39mModel()\n\u001b[0;32m      4\u001b[0m \u001b[38;5;66;03m# Add layers to the model\u001b[39;00m\n\u001b[1;32m----> 5\u001b[0m model\u001b[38;5;241m.\u001b[39madd(\u001b[43mDenseRegularized\u001b[49m(\u001b[38;5;241m3\u001b[39m, \u001b[38;5;241m64\u001b[39m, weights_regularizer_l1\u001b[38;5;241m=\u001b[39m\u001b[38;5;241m0.01\u001b[39m, weights_regularizer_l2\u001b[38;5;241m=\u001b[39m\u001b[38;5;241m0.01\u001b[39m))  \u001b[38;5;66;03m# Input layer: 3D input\u001b[39;00m\n\u001b[0;32m      6\u001b[0m model\u001b[38;5;241m.\u001b[39madd(Activation_ReLU())\n\u001b[0;32m      7\u001b[0m model\u001b[38;5;241m.\u001b[39madd(Dropout(\u001b[38;5;241m0.1\u001b[39m))\n",
      "\u001b[1;31mNameError\u001b[0m: name 'DenseRegularized' is not defined"
     ]
    }
   ],
   "source": [
    "# Initialize and build the model\n",
    "model = NNModel.Model()\n",
    "\n",
    "# Add layers to the model\n",
    "model.add(DenseRegularized(3, 64, weights_regularizer_l1=0.01, weights_regularizer_l2=0.01))  # Input layer: 3D input\n",
    "model.add(Activation_ReLU())\n",
    "model.add(Dropout(0.1))\n",
    "model.add(DenseRegularized(64, 64, weights_regularizer_l1=0.01, weights_regularizer_l2=0.01))\n",
    "model.add(Activation_ReLU())\n",
    "model.add(DenseRegularized(64, 3, weights_regularizer_l1=0.01, weights_regularizer_l2=0.01))  # Output layer: 3 classes\n",
    "model.add(Activation_Linear())\n",
    "\n",
    "# Set loss, optimizer, and accuracy metrics\n",
    "model.set(\n",
    "    loss=Loss_CategoricalCrossentropy(),\n",
    "    optimizer=Optimizer_Adam(learning_rate=0.03, decay=1e-4),\n",
    "    accuracy=Accuracy_Categorical(),\n",
    ")\n",
    "\n",
    "# Finalize the model and train\n",
    "model.finalize()\n",
    "model.train(\n",
    "    Training_Data.P,  # Input training data\n",
    "    Training_Data.L,  # Training labels\n",
    "    Validation_Data,  # Validation dataset\n",
    "    epochs=1000,\n",
    "    print_every=100\n",
    ")\n",
    "\n",
    "# Get and visualize results\n",
    "parameters = model.get_parameters()  # Retrieve trained parameters\n",
    "output = model.forward(Training_Data.P)  # Forward pass to get predictions\n",
    "predictions = np.argmax(output, axis=1)  # Get class predictions\n",
    "\n",
    "# Visualization of data (2D)\n",
    "plt.figure(1)\n",
    "plt.scatter(Training_Data.P[:, 0], Training_Data.P[:, 1], c=Training_Data.L, s=20, cmap=plt.cm.Spectral)\n",
    "plt.title(\"Training data\")\n",
    "\n",
    "plt.figure(2)\n",
    "plt.scatter(Training_Data.P[:, 0], Training_Data.P[:, 1], c=predictions, s=20, cmap=plt.cm.Spectral)\n",
    "plt.title(\"Training Result\")\n",
    "plt.show()\n"
   ]
  },
  {
   "cell_type": "code",
   "execution_count": null,
   "metadata": {},
   "outputs": [],
   "source": [
    "# Visualization of 2D projection (select X and Y dimensions)\n",
    "plt.figure(1)\n",
    "plt.scatter(Training_Data.P[:, 0], Training_Data.P[:, 1], c=Training_Data.L, s=20, cmap=plt.cm.Spectral)\n",
    "plt.title(\"Training Data (2D Projection)\")\n",
    "plt.xlabel(\"X\")\n",
    "plt.ylabel(\"Y\")\n",
    "\n",
    "plt.figure(2)\n",
    "plt.scatter(Training_Data.P[:, 0], Training_Data.P[:, 1], c=predictions, s=20, cmap=plt.cm.Spectral)\n",
    "plt.title(\"Model Predictions (2D Projection)\")\n",
    "plt.xlabel(\"X\")\n",
    "plt.ylabel(\"Y\")\n",
    "\n",
    "plt.show()"
   ]
  }
 ],
 "metadata": {
  "kernelspec": {
   "display_name": "phuongle",
   "language": "python",
   "name": "python3"
  },
  "language_info": {
   "codemirror_mode": {
    "name": "ipython",
    "version": 3
   },
   "file_extension": ".py",
   "mimetype": "text/x-python",
   "name": "python",
   "nbconvert_exporter": "python",
   "pygments_lexer": "ipython3",
   "version": "3.10.13"
  }
 },
 "nbformat": 4,
 "nbformat_minor": 2
}
